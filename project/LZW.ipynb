{
 "cells": [
  {
   "cell_type": "code",
   "execution_count": null,
   "metadata": {},
   "outputs": [],
   "source": [
    "\n"
   ]
  },
  {
   "cell_type": "code",
   "execution_count": 243,
   "metadata": {},
   "outputs": [
    {
     "name": "stdout",
     "output_type": "stream",
     "text": [
      "[3, 5, 10, 251, 258, 256, 260]\n",
      "{(0,): 0, (1,): 1, (2,): 2, (3,): 3, (4,): 4, (5,): 5, (6,): 6, (7,): 7, (8,): 8, (9,): 9, (10,): 10, (11,): 11, (12,): 12, (13,): 13, (14,): 14, (15,): 15, (16,): 16, (17,): 17, (18,): 18, (19,): 19, (20,): 20, (21,): 21, (22,): 22, (23,): 23, (24,): 24, (25,): 25, (26,): 26, (27,): 27, (28,): 28, (29,): 29, (30,): 30, (31,): 31, (32,): 32, (33,): 33, (34,): 34, (35,): 35, (36,): 36, (37,): 37, (38,): 38, (39,): 39, (40,): 40, (41,): 41, (42,): 42, (43,): 43, (44,): 44, (45,): 45, (46,): 46, (47,): 47, (48,): 48, (49,): 49, (50,): 50, (51,): 51, (52,): 52, (53,): 53, (54,): 54, (55,): 55, (56,): 56, (57,): 57, (58,): 58, (59,): 59, (60,): 60, (61,): 61, (62,): 62, (63,): 63, (64,): 64, (65,): 65, (66,): 66, (67,): 67, (68,): 68, (69,): 69, (70,): 70, (71,): 71, (72,): 72, (73,): 73, (74,): 74, (75,): 75, (76,): 76, (77,): 77, (78,): 78, (79,): 79, (80,): 80, (81,): 81, (82,): 82, (83,): 83, (84,): 84, (85,): 85, (86,): 86, (87,): 87, (88,): 88, (89,): 89, (90,): 90, (91,): 91, (92,): 92, (93,): 93, (94,): 94, (95,): 95, (96,): 96, (97,): 97, (98,): 98, (99,): 99, (100,): 100, (101,): 101, (102,): 102, (103,): 103, (104,): 104, (105,): 105, (106,): 106, (107,): 107, (108,): 108, (109,): 109, (110,): 110, (111,): 111, (112,): 112, (113,): 113, (114,): 114, (115,): 115, (116,): 116, (117,): 117, (118,): 118, (119,): 119, (120,): 120, (121,): 121, (122,): 122, (123,): 123, (124,): 124, (125,): 125, (126,): 126, (127,): 127, (128,): 128, (129,): 129, (130,): 130, (131,): 131, (132,): 132, (133,): 133, (134,): 134, (135,): 135, (136,): 136, (137,): 137, (138,): 138, (139,): 139, (140,): 140, (141,): 141, (142,): 142, (143,): 143, (144,): 144, (145,): 145, (146,): 146, (147,): 147, (148,): 148, (149,): 149, (150,): 150, (151,): 151, (152,): 152, (153,): 153, (154,): 154, (155,): 155, (156,): 156, (157,): 157, (158,): 158, (159,): 159, (160,): 160, (161,): 161, (162,): 162, (163,): 163, (164,): 164, (165,): 165, (166,): 166, (167,): 167, (168,): 168, (169,): 169, (170,): 170, (171,): 171, (172,): 172, (173,): 173, (174,): 174, (175,): 175, (176,): 176, (177,): 177, (178,): 178, (179,): 179, (180,): 180, (181,): 181, (182,): 182, (183,): 183, (184,): 184, (185,): 185, (186,): 186, (187,): 187, (188,): 188, (189,): 189, (190,): 190, (191,): 191, (192,): 192, (193,): 193, (194,): 194, (195,): 195, (196,): 196, (197,): 197, (198,): 198, (199,): 199, (200,): 200, (201,): 201, (202,): 202, (203,): 203, (204,): 204, (205,): 205, (206,): 206, (207,): 207, (208,): 208, (209,): 209, (210,): 210, (211,): 211, (212,): 212, (213,): 213, (214,): 214, (215,): 215, (216,): 216, (217,): 217, (218,): 218, (219,): 219, (220,): 220, (221,): 221, (222,): 222, (223,): 223, (224,): 224, (225,): 225, (226,): 226, (227,): 227, (228,): 228, (229,): 229, (230,): 230, (231,): 231, (232,): 232, (233,): 233, (234,): 234, (235,): 235, (236,): 236, (237,): 237, (238,): 238, (239,): 239, (240,): 240, (241,): 241, (242,): 242, (243,): 243, (244,): 244, (245,): 245, (246,): 246, (247,): 247, (248,): 248, (249,): 249, (250,): 250, (251,): 251, (252,): 252, (253,): 253, (254,): 254, (255,): 255, (3, 5): 256, (5, 10): 257, (10, 251): 258, (251, 10): 259, (10, 251, 3): 260, (3, 5, 10): 261}\n"
     ]
    }
   ],
   "source": [
    "input_list = [3, 5, 10, 251, 10, 251, 3, 5, 10, 251, 3]\n",
    "\n",
    "# Building and initializing the dictionary.\n",
    "dictionary_size = 256\n",
    "dictionary = {tuple([i]): i for i in range(dictionary_size)}\n",
    "\n",
    "string = []  # String is initially empty\n",
    "compressed_data = []  # Variable to store the compressed data\n",
    "\n",
    "# LZW Compression algorithm\n",
    "for symbol in input_list:\n",
    "    string_plus_symbol = string + [symbol]  # Get input symbol.\n",
    "    if tuple(string_plus_symbol) in dictionary:\n",
    "        string = string_plus_symbol\n",
    "    else:\n",
    "        compressed_data.append(dictionary[tuple(string)])\n",
    "        dictionary[tuple(string_plus_symbol)] = dictionary_size\n",
    "        dictionary_size += 1\n",
    "        string = [symbol]\n",
    "\n",
    "if tuple(string) in dictionary:\n",
    "    compressed_data.append(dictionary[tuple(string)])\n",
    "\n",
    "# Output the compressed data and the final state of the dictionary\n",
    "print(compressed_data)\n",
    "print(dictionary)\n",
    "\n"
   ]
  },
  {
   "cell_type": "code",
   "execution_count": 244,
   "metadata": {},
   "outputs": [
    {
     "data": {
      "text/plain": [
       "[3, 5, 10, 251, 258, 256, 260]"
      ]
     },
     "execution_count": 244,
     "metadata": {},
     "output_type": "execute_result"
    }
   ],
   "source": [
    "compressed_data"
   ]
  },
  {
   "cell_type": "code",
   "execution_count": 245,
   "metadata": {},
   "outputs": [
    {
     "name": "stdout",
     "output_type": "stream",
     "text": [
      "[3, 5, 10, 251, 10, 251, 3, 5, 10, 251, 3]\n"
     ]
    }
   ],
   "source": [
    "# Read the compressed data from the file\n",
    "compressed_data = [3, 5, 10, 251, 258, 256, 260]\n",
    "\n",
    "# Building and initializing the dictionary.\n",
    "dictionary_size = 256\n",
    "dictionary = {i: [i] for i in range(dictionary_size)}\n",
    "\n",
    "# Initialize variables for decoding\n",
    "previous_code = compressed_data[0]\n",
    "decoded_string = dictionary[previous_code]\n",
    "decoded_data = list(decoded_string)\n",
    "\n",
    "# Decoding the compressed data\n",
    "for code in compressed_data[1:]:\n",
    "    if code in dictionary:\n",
    "        current_string = dictionary[code]\n",
    "    elif code == len(dictionary):\n",
    "        current_string = decoded_string + [decoded_string[0]]\n",
    "    else:\n",
    "        raise ValueError(\"Bad compressed k\")\n",
    "\n",
    "    decoded_data += current_string\n",
    "    dictionary[len(dictionary)] = decoded_string + [current_string[0]]\n",
    "    decoded_string = current_string\n",
    "\n",
    "# Output the decoded data\n",
    "print(decoded_data)"
   ]
  },
  {
   "cell_type": "code",
   "execution_count": 246,
   "metadata": {},
   "outputs": [],
   "source": [
    "def lzw_encode(data):\n",
    "    # Building and initializing the dictionary.\n",
    "    dictionary_size = 256\n",
    "    dictionary = {tuple([i]): i for i in range(dictionary_size)}\n",
    "\n",
    "    string = []  # String is initially empty\n",
    "    compressed_data = []  # Variable to store the compressed data\n",
    "\n",
    "    # LZW Compression algorithm\n",
    "    for symbol in data:\n",
    "        string_plus_symbol = string + [symbol]  # Get input symbol.\n",
    "        if tuple(string_plus_symbol) in dictionary:\n",
    "            string = string_plus_symbol\n",
    "        else:\n",
    "            compressed_data.append(dictionary[tuple(string)])\n",
    "            dictionary[tuple(string_plus_symbol)] = dictionary_size\n",
    "            dictionary_size += 1\n",
    "            string = [symbol]\n",
    "\n",
    "    if tuple(string) in dictionary:\n",
    "        compressed_data.append(dictionary[tuple(string)])\n",
    "\n",
    "    return compressed_data"
   ]
  },
  {
   "cell_type": "code",
   "execution_count": 247,
   "metadata": {},
   "outputs": [],
   "source": [
    "def lzw_decode(compressed_data):\n",
    "    # Building and initializing the dictionary.\n",
    "    dictionary_size = 256\n",
    "    dictionary = {i: [i] for i in range(dictionary_size)}\n",
    "\n",
    "    # Initialize variables for decoding\n",
    "    previous_code = compressed_data[0]\n",
    "    decoded_string = dictionary[previous_code]\n",
    "    decoded_data = list(decoded_string)\n",
    "\n",
    "    # Decoding the compressed data\n",
    "    for code in compressed_data[1:]:\n",
    "        if code in dictionary:\n",
    "            current_string = dictionary[code]\n",
    "        elif code == len(dictionary):\n",
    "            current_string = decoded_string + [decoded_string[0]]\n",
    "        else:\n",
    "            raise ValueError(\"Bad compressed k\")\n",
    "\n",
    "        decoded_data += current_string\n",
    "        dictionary[len(dictionary)] = decoded_string + [current_string[0]]\n",
    "        decoded_string = current_string\n",
    "\n",
    "    return decoded_data"
   ]
  },
  {
   "cell_type": "code",
   "execution_count": 248,
   "metadata": {},
   "outputs": [],
   "source": [
    "import cv2\n",
    "import matplotlib.pyplot as plt\n",
    "import numpy as np\n",
    "%matplotlib inline"
   ]
  },
  {
   "cell_type": "code",
   "execution_count": 249,
   "metadata": {},
   "outputs": [],
   "source": [
    "def lzw_encode_one_channel(data):\n",
    "    encoded_image = []\n",
    "    for line in data:\n",
    "        encoded_line = lzw_encode(line)\n",
    "        encoded_image.append(encoded_line)\n",
    "    return encoded_image"
   ]
  },
  {
   "cell_type": "code",
   "execution_count": 250,
   "metadata": {},
   "outputs": [],
   "source": [
    "def lzw_decode_one_channel(data):\n",
    "    decoded_image = []\n",
    "    for line in data:\n",
    "        decoded_line = lzw_decode(line)\n",
    "        decoded_image.append(decoded_line)\n",
    "    return decoded_image"
   ]
  },
  {
   "cell_type": "code",
   "execution_count": 251,
   "metadata": {},
   "outputs": [],
   "source": [
    "def lzw_encode_rgb_image(data):\n",
    "    r, g, b = cv2.split(data)\n",
    "    r_encoded = lzw_encode_one_channel(r)\n",
    "    g_encoded = lzw_encode_one_channel(g)\n",
    "    b_encoded = lzw_encode_one_channel(b)\n",
    "    return [r_encoded, g_encoded, b_encoded]"
   ]
  },
  {
   "cell_type": "code",
   "execution_count": 252,
   "metadata": {},
   "outputs": [],
   "source": [
    "def lzw_decode_rgb_image(data):\n",
    "    r_d, g_d, b_d = data\n",
    "\n",
    "    r_decoded = lzw_decode_one_channel(r_d)\n",
    "    g_decoded = lzw_decode_one_channel(g_d)\n",
    "    b_decoded = lzw_decode_one_channel(b_d)\n",
    "\n",
    "    r_array = np.array(r_decoded)\n",
    "    g_array = np.array(g_decoded)\n",
    "    b_array = np.array(b_decoded)\n",
    "\n",
    "    return cv2.merge([r_array, g_array, b_array])\n"
   ]
  },
  {
   "cell_type": "code",
   "execution_count": 253,
   "metadata": {},
   "outputs": [],
   "source": [
    "wm_image = cv2.imread('images\\WM.png', cv2.IMREAD_GRAYSCALE)\n",
    "\n",
    "dog =  cv2.imread('images\\doggy.jpg')\n",
    "dog = cv2.cvtColor(dog, cv2.COLOR_BGR2RGB)\n",
    "\n",
    "cat = cv2.imread('images\\catty.jpg')\n",
    "cat = cv2.cvtColor(cat, cv2.COLOR_BGR2RGB)\n"
   ]
  },
  {
   "cell_type": "code",
   "execution_count": 254,
   "metadata": {},
   "outputs": [],
   "source": [
    "wm_encoded = lzw_encode_one_channel(wm_image)\n"
   ]
  },
  {
   "cell_type": "code",
   "execution_count": 255,
   "metadata": {},
   "outputs": [],
   "source": [
    "wm_decoded = lzw_decode_one_channel(wm_encoded)"
   ]
  },
  {
   "cell_type": "code",
   "execution_count": 256,
   "metadata": {},
   "outputs": [
    {
     "data": {
      "text/plain": [
       "True"
      ]
     },
     "execution_count": 256,
     "metadata": {},
     "output_type": "execute_result"
    }
   ],
   "source": [
    "np.array_equal(wm_decoded, wm_image)"
   ]
  },
  {
   "cell_type": "code",
   "execution_count": 257,
   "metadata": {},
   "outputs": [],
   "source": [
    "cat_encoded = lzw_encode_rgb_image(cat)"
   ]
  },
  {
   "cell_type": "code",
   "execution_count": 258,
   "metadata": {},
   "outputs": [],
   "source": [
    "cat_decoded = lzw_decode_rgb_image(cat_encoded)"
   ]
  },
  {
   "cell_type": "code",
   "execution_count": 259,
   "metadata": {},
   "outputs": [
    {
     "data": {
      "text/plain": [
       "True"
      ]
     },
     "execution_count": 259,
     "metadata": {},
     "output_type": "execute_result"
    }
   ],
   "source": [
    "np.array_equal(cat_decoded, cat)"
   ]
  },
  {
   "cell_type": "code",
   "execution_count": 260,
   "metadata": {},
   "outputs": [
    {
     "name": "stdout",
     "output_type": "stream",
     "text": [
      "Размер cat в байтах: 172644\n",
      "Размер cat_encoded в байтах: 6600\n"
     ]
    }
   ],
   "source": [
    "import sys\n",
    "\n",
    "# Оценка размера в байтах для cat и cat_encoded\n",
    "size_cat_bytes = sys.getsizeof(cat)\n",
    "size_cat_encoded_bytes = sum([sys.getsizeof(ch) for ch in cat_encoded])\n",
    "\n",
    "print(\"Размер cat в байтах:\", size_cat_bytes)\n",
    "print(\"Размер cat_encoded в байтах:\", size_cat_encoded_bytes)\n"
   ]
  },
  {
   "cell_type": "code",
   "execution_count": 261,
   "metadata": {},
   "outputs": [],
   "source": [
    "import pickle\n",
    "\n",
    "# Преобразование списка cat_encoded в байты\n",
    "cat_encoded_bytes = pickle.dumps(cat_encoded)\n",
    "\n",
    "# Открытие файла для записи в двоичном режиме\n",
    "output_file_path = \"cat_encoded.lzw\"\n",
    "with open(output_file_path, \"wb\") as output_file:\n",
    "    output_file.write(cat_encoded_bytes)"
   ]
  },
  {
   "cell_type": "code",
   "execution_count": 262,
   "metadata": {},
   "outputs": [],
   "source": [
    "import pickle\n",
    "\n",
    "# Открытие файла для чтения в двоичном режиме\n",
    "with open(\"cat_encoded.lzw\", \"rb\") as file:\n",
    "    binary_data = file.read()\n",
    "\n",
    "# Декодирование байтовой строки\n",
    "encoded_file = pickle.loads(binary_data)\n"
   ]
  },
  {
   "cell_type": "code",
   "execution_count": 263,
   "metadata": {},
   "outputs": [],
   "source": [
    "file_decoded = lzw_decode_rgb_image(encoded_file)"
   ]
  },
  {
   "cell_type": "code",
   "execution_count": 264,
   "metadata": {},
   "outputs": [
    {
     "data": {
      "text/plain": [
       "True"
      ]
     },
     "execution_count": 264,
     "metadata": {},
     "output_type": "execute_result"
    }
   ],
   "source": [
    "np.array_equal(cat_decoded, file_decoded)"
   ]
  },
  {
   "cell_type": "code",
   "execution_count": 265,
   "metadata": {},
   "outputs": [
    {
     "data": {
      "text/plain": [
       "False"
      ]
     },
     "execution_count": 265,
     "metadata": {},
     "output_type": "execute_result"
    }
   ],
   "source": [
    "np.array_equal(encoded_file, cat_encoded)"
   ]
  },
  {
   "cell_type": "code",
   "execution_count": 272,
   "metadata": {},
   "outputs": [
    {
     "data": {
      "text/plain": [
       "(192, 192)"
      ]
     },
     "execution_count": 272,
     "metadata": {},
     "output_type": "execute_result"
    }
   ],
   "source": [
    "len(cat_encoded[0][0]),len(encoded_file[0][0])"
   ]
  },
  {
   "cell_type": "code",
   "execution_count": 273,
   "metadata": {},
   "outputs": [
    {
     "data": {
      "text/plain": [
       "True"
      ]
     },
     "execution_count": 273,
     "metadata": {},
     "output_type": "execute_result"
    }
   ],
   "source": [
    "encoded_file == cat_encoded"
   ]
  },
  {
   "cell_type": "code",
   "execution_count": null,
   "metadata": {},
   "outputs": [],
   "source": []
  }
 ],
 "metadata": {
  "kernelspec": {
   "display_name": ".venv",
   "language": "python",
   "name": "python3"
  },
  "language_info": {
   "codemirror_mode": {
    "name": "ipython",
    "version": 3
   },
   "file_extension": ".py",
   "mimetype": "text/x-python",
   "name": "python",
   "nbconvert_exporter": "python",
   "pygments_lexer": "ipython3",
   "version": "3.11.8"
  }
 },
 "nbformat": 4,
 "nbformat_minor": 2
}
