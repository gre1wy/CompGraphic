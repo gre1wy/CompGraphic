{
 "cells": [
  {
   "cell_type": "code",
   "execution_count": 9,
   "id": "b9a70ec3-7967-40e5-b311-e2791dce6fd5",
   "metadata": {
    "vscode": {
     "languageId": "powershell"
    }
   },
   "outputs": [],
   "source": [
    "import matplotlib.pyplot as plt\n",
    "import numpy as np\n",
    "from mpl_toolkits.mplot3d.art3d import Poly3DCollection"
   ]
  },
  {
   "cell_type": "code",
   "execution_count": 10,
   "id": "ead43f29",
   "metadata": {
    "vscode": {
     "languageId": "powershell"
    }
   },
   "outputs": [],
   "source": [
    "\n",
    "# Задаємо координати вершин куба\n",
    "cube_vertices = np.array([\n",
    "    [4, 6, 2],\n",
    "    [6, 6, 2],\n",
    "    [6, 8, 2],\n",
    "    [4, 8, 2],\n",
    "    [4, 6, 4],\n",
    "    [6, 6, 4],\n",
    "    [6, 8, 4],\n",
    "    [4, 8, 4]])\n"
   ]
  },
  {
   "cell_type": "code",
   "execution_count": 11,
   "id": "230679d7",
   "metadata": {
    "vscode": {
     "languageId": "powershell"
    }
   },
   "outputs": [
    {
     "name": "stdout",
     "output_type": "stream",
     "text": [
      "[4. 6. 2.]\n",
      "[4. 6. 2. 1.]\n"
     ]
    }
   ],
   "source": [
    "\n",
    "cube_vertices_with_ones = np.hstack([cube_vertices, np.ones((cube_vertices.shape[0], 1))])\n",
    "print(cube_vertices_with_ones[0,:-1])\n",
    "print(cube_vertices_with_ones[0])\n"
   ]
  },
  {
   "cell_type": "code",
   "execution_count": 12,
   "id": "24e4e1c9",
   "metadata": {
    "vscode": {
     "languageId": "powershell"
    }
   },
   "outputs": [],
   "source": [
    "\n",
    "scalling_matrix_1 = cube_vertices*0.5\n"
   ]
  },
  {
   "cell_type": "code",
   "execution_count": 13,
   "id": "cfd586c2",
   "metadata": {
    "vscode": {
     "languageId": "powershell"
    }
   },
   "outputs": [],
   "source": [
    "point_on_line = np.array([1, 2, 3])\n",
    "direction_vector = np.array([2, -1, 0])\n",
    "\n",
    "# Generate values for the parameter t\n",
    "t_values = np.linspace(-10, 10, 100)\n",
    "\n",
    "# Calculate points on the line for each value of t\n",
    "line_points = np.array([point_on_line + t * direction_vector for t in t_values])"
   ]
  },
  {
   "cell_type": "code",
   "execution_count": 16,
   "id": "71de117d",
   "metadata": {
    "vscode": {
     "languageId": "powershell"
    }
   },
   "outputs": [
    {
     "data": {
      "text/plain": [
       "array([-1,  1,  0,  1])"
      ]
     },
     "execution_count": 16,
     "metadata": {},
     "output_type": "execute_result"
    }
   ],
   "source": [
    "point_on_line = np.array([1, 2, 3, 1])\n",
    "direction_vector = np.array([2, 1, 3, 1])\n",
    "\n",
    "matrix_move_to_center = np.array([[  1,  0,  0, -direction_vector[0]],\n",
    "                            [  0,  1,  0, -direction_vector[1]],\n",
    "                            [  0,  0,  1, -direction_vector[2]],\n",
    "                            [  0,  0,  0, 1]])\n",
    "\n",
    "np.dot(point_on_line, matrix_move_to_center.T)"
   ]
  },
  {
   "cell_type": "code",
   "execution_count": 21,
   "id": "9b453eda",
   "metadata": {
    "vscode": {
     "languageId": "powershell"
    }
   },
   "outputs": [],
   "source": [
    "point_on_line = np.array([1, 2, 3])\n",
    "direction_vector = np.array([2, 1, 3])\n",
    "line_points = np.array([point_on_line + t * direction_vector for t in np.linspace(-8, 8, 100)])\n",
    "line_points = np.hstack([line_points, np.ones((line_points.shape[0], 1))])\n",
    "# Moving matrices\n",
    "matrix_move_to_center = np.array([[ 1, 0, 0, -direction_vector[0]],\n",
    "                            [ 0, 1, 0, -direction_vector[1]],\n",
    "                            [ 0, 0, 1, -direction_vector[2]],\n",
    "                            [ 0, 0, 0, 1]])\n",
    "\n",
    "\n",
    "# Multiplication\n",
    "line_points_to_center = np.dot(line_points, matrix_move_to_center.T)"
   ]
  },
  {
   "cell_type": "code",
   "execution_count": 24,
   "id": "25725683",
   "metadata": {
    "vscode": {
     "languageId": "powershell"
    }
   },
   "outputs": [
    {
     "data": {
      "text/plain": [
       "(array([-15.,  -6., -21.,   1.]), array([-17.,  -7., -24.,   1.]))"
      ]
     },
     "execution_count": 24,
     "metadata": {},
     "output_type": "execute_result"
    }
   ],
   "source": [
    "line_points[0], line_points_to_center[0]"
   ]
  },
  {
   "cell_type": "code",
   "execution_count": null,
   "id": "2854d9f6",
   "metadata": {
    "vscode": {
     "languageId": "powershell"
    }
   },
   "outputs": [],
   "source": [
    "direction_vector = np.array([ 2, 1, 3])"
   ]
  }
 ],
 "metadata": {
  "kernelspec": {
   "display_name": "base",
   "language": "python",
   "name": "python3"
  },
  "language_info": {
   "codemirror_mode": {
    "name": "ipython",
    "version": 3
   },
   "file_extension": ".py",
   "mimetype": "text/x-python",
   "name": "python",
   "nbconvert_exporter": "python",
   "pygments_lexer": "ipython3",
   "version": "3.11.4"
  }
 },
 "nbformat": 4,
 "nbformat_minor": 5
}
