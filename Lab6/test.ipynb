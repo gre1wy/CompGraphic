{
 "cells": [
  {
   "cell_type": "code",
   "execution_count": 119,
   "metadata": {},
   "outputs": [],
   "source": [
    "import cv2\n",
    "import numpy as np\n",
    "import matplotlib.pyplot as plt\n",
    "%matplotlib inline"
   ]
  },
  {
   "cell_type": "code",
   "execution_count": 120,
   "metadata": {},
   "outputs": [],
   "source": [
    "np.set_printoptions(threshold=np.inf)"
   ]
  },
  {
   "cell_type": "code",
   "execution_count": 148,
   "metadata": {},
   "outputs": [],
   "source": [
    "wm_image = cv2.imread('Images\\WM.png', cv2.IMREAD_GRAYSCALE)\n",
    "input_image = cv2.imread('Images\\InputImage.png')"
   ]
  },
  {
   "cell_type": "code",
   "execution_count": 122,
   "metadata": {},
   "outputs": [],
   "source": [
    "_, wm_binary = cv2.threshold(wm_image,165, 255, cv2.THRESH_BINARY)"
   ]
  },
  {
   "cell_type": "code",
   "execution_count": null,
   "metadata": {},
   "outputs": [],
   "source": [
    "def update_wm(image, h_new, w_new):\n",
    "    \"\"\"\n",
    "    Make watermark as large as container\n",
    "    \"\"\"\n",
    "    h, w = image.shape\n",
    "    while True:\n",
    "        image = np.concatenate((image, image), axis=1)\n",
    "        if image.shape[1]>w_new:\n",
    "            break\n",
    "    while True:\n",
    "        image = np.concatenate((image, image), axis=0)\n",
    "        if image.shape[0]>h_new:\n",
    "            break\n",
    "    image = image[:h_new, :w_new]\n",
    "    return image"
   ]
  },
  {
   "cell_type": "code",
   "execution_count": null,
   "metadata": {},
   "outputs": [],
   "source": [
    "def insert_wm(container, wm, bit):\n",
    "    \"\"\"\n",
    "    Inserting watermark into image\n",
    "    \"\"\"\n",
    "    h_c, w_c, _ = container.shape\n",
    "    h_wm,w_wm = wm.shape\n",
    "    # if container bigger\n",
    "    if h_wm < h_c or w_wm < w_c:\n",
    "        wm = update_wm(wm, h_c, w_c)\n",
    "    # if container smaller  \n",
    "    if h_wm > h_c or w_wm > w_c:\n",
    "        wm = wm[:h_c, :w_c]\n",
    "\n",
    "    # making image 0 and 1\n",
    "    wm = wm & 1\n",
    "    # making three streams\n",
    "    r, g, b = cv2.split(container)\n",
    "\n",
    "    # Bit demonstration of int8 values\n",
    "    b_unpacked = np.unpackbits(b[:,:,np.newaxis], axis=2)\n",
    "    # Changing bits\n",
    "    b_unpacked[:,:, -bit] = wm[:, :]\n",
    "    # Change bit demonstration to int8\n",
    "    b_packed = np.packbits(b_unpacked, axis=2)\n",
    "    b_new = b_packed.reshape(b_packed.shape[0],b_packed.shape[1])\n",
    "    # Making new image\n",
    "    modified_image = cv2.merge((r, g, b_new))\n",
    "    return modified_image"
   ]
  },
  {
   "cell_type": "code",
   "execution_count": null,
   "metadata": {},
   "outputs": [],
   "source": [
    "def extrect_wm(container, bit):\n",
    "    \"\"\"\n",
    "    Extrecting watermark from image\n",
    "    \"\"\"\n",
    "    _, _, b_mod = cv2.split(container)\n",
    "    b_mod_unpacked = np.unpackbits(b_mod[:,:,np.newaxis], axis=2)\n",
    "    wm_from_im = b_mod_unpacked[:,:, -bit]\n",
    "    return wm_from_im"
   ]
  },
  {
   "cell_type": "code",
   "execution_count": null,
   "metadata": {},
   "outputs": [],
   "source": [
    "image_with_watermark = insert_wm(input_image, wm_binary, 1)\n",
    "plt.imshow(image_with_watermark)"
   ]
  },
  {
   "cell_type": "code",
   "execution_count": null,
   "metadata": {},
   "outputs": [],
   "source": [
    "watermark_from_image = extrect_wm(image_with_watermark, bit=1)\n",
    "plt.imshow(watermark_from_image, cmap='gray')"
   ]
  },
  {
   "cell_type": "code",
   "execution_count": 189,
   "metadata": {},
   "outputs": [],
   "source": [
    "def text_to_binary(text):\n",
    "    \"\"\"\n",
    "    Преобразует текст в бинарный формат ASCII\n",
    "    \"\"\"\n",
    "    binary_text = ''.join(format(ord(char), '08b') for char in text)\n",
    "    return binary_text"
   ]
  },
  {
   "cell_type": "code",
   "execution_count": 186,
   "metadata": {},
   "outputs": [],
   "source": [
    "r, g, b = cv2.split(input_image)\n",
    "b_unpacked = np.unpackbits(b[:,:,np.newaxis], axis=2)\n",
    "\n",
    "for i in range(b_unpacked.shape[0]):\n",
    "    for j in range(b_unpacked.shape[1]):\n",
    "        if text == '':\n",
    "            break\n",
    "        b_unpacked[i, j, -1] = text[0]\n",
    "        text = text[1:]\n"
   ]
  },
  {
   "cell_type": "code",
   "execution_count": 201,
   "metadata": {},
   "outputs": [],
   "source": [
    "def insert_text(container, text, bit):\n",
    "    binary_text = text_to_binary(text)\n",
    "    h_c, w_c, _ = container.shape\n",
    "    length_text = len(binary_text)\n",
    "    # текст слишком большой\n",
    "    if h_c*w_c < length_text:\n",
    "        return\n",
    "    _, _, b = cv2.split(input_image)\n",
    "    b_unpacked = np.unpackbits(b[:,:,np.newaxis], axis=2)\n",
    "\n",
    "    for i in range(b_unpacked.shape[0]):\n",
    "        for j in range(b_unpacked.shape[1]):\n",
    "            if binary_text == '':\n",
    "                break\n",
    "            b_unpacked[i, j, -bit] = binary_text[0]\n",
    "            binary_text = binary_text[1:]\n",
    "    # Change bit demonstration to int8\n",
    "    b_packed = np.packbits(b_unpacked, axis=2)\n",
    "    b_new = b_packed.reshape(b_packed.shape[0],b_packed.shape[1])\n",
    "    # Making new image\n",
    "    modified_image = cv2.merge((r, g, b_new))\n",
    "    return modified_image, length_text\n"
   ]
  },
  {
   "cell_type": "code",
   "execution_count": 196,
   "metadata": {},
   "outputs": [
    {
     "data": {
      "text/plain": [
       "array([1, 1, 1, 0, 0, 1, 1, 0], dtype=uint8)"
      ]
     },
     "execution_count": 196,
     "metadata": {},
     "output_type": "execute_result"
    }
   ],
   "source": [
    "_, _, b_mod = cv2.split(input_image)\n",
    "b_mod_unpacked = np.unpackbits(b_mod[:,:,np.newaxis], axis=2)\n",
    "text_from_im = b_mod_unpacked[:,:, -1].flatten()\n",
    "text_from_im[:8]"
   ]
  },
  {
   "cell_type": "code",
   "execution_count": 198,
   "metadata": {},
   "outputs": [],
   "source": [
    "def binary_to_text(binary_text):\n",
    "    \"\"\"\n",
    "    Преобразует бинарную строку обратно в текст\n",
    "    \"\"\"\n",
    "    # Разбиваем бинарную строку на восемьбитовые части\n",
    "    chunks = [binary_text[i:i+8] for i in range(0, len(binary_text), 8)]\n",
    "    \n",
    "    # Преобразуем каждую восемьбитовую часть в число и затем в символ ASCII\n",
    "    text = ''.join([chr(int(chunk, 2)) for chunk in chunks])\n",
    "    \n",
    "    return text\n"
   ]
  },
  {
   "cell_type": "code",
   "execution_count": 199,
   "metadata": {},
   "outputs": [],
   "source": [
    "def extrect_text(container, length_text):\n",
    "    _, _, b_mod = cv2.split(container)\n",
    "    b_mod_unpacked = np.unpackbits(b_mod[:,:,np.newaxis], axis=2)\n",
    "    text_from_im = b_mod_unpacked[:,:, -1].flatten()\n",
    "    encrypted_text = text_from_im[:length_text]\n",
    "    encrypted_text_str = ''.join(map(str, encrypted_text))\n",
    "    return binary_to_text(encrypted_text_str)\n"
   ]
  },
  {
   "cell_type": "code",
   "execution_count": 202,
   "metadata": {},
   "outputs": [],
   "source": [
    "im, l = insert_text(input_image, 'sex', 1)"
   ]
  },
  {
   "cell_type": "code",
   "execution_count": 203,
   "metadata": {},
   "outputs": [
    {
     "data": {
      "text/plain": [
       "'sex'"
      ]
     },
     "execution_count": 203,
     "metadata": {},
     "output_type": "execute_result"
    }
   ],
   "source": [
    "extrect_text(im, l)"
   ]
  },
  {
   "cell_type": "code",
   "execution_count": null,
   "metadata": {},
   "outputs": [],
   "source": []
  }
 ],
 "metadata": {
  "kernelspec": {
   "display_name": ".venv",
   "language": "python",
   "name": "python3"
  },
  "language_info": {
   "codemirror_mode": {
    "name": "ipython",
    "version": 3
   },
   "file_extension": ".py",
   "mimetype": "text/x-python",
   "name": "python",
   "nbconvert_exporter": "python",
   "pygments_lexer": "ipython3",
   "version": "3.11.8"
  }
 },
 "nbformat": 4,
 "nbformat_minor": 2
}
