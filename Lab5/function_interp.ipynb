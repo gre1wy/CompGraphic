{
 "cells": [
  {
   "cell_type": "code",
   "execution_count": 14,
   "metadata": {},
   "outputs": [],
   "source": [
    "import numpy as np\n",
    "import matplotlib.pyplot as plt\n",
    "import cv2\n"
   ]
  },
  {
   "cell_type": "code",
   "execution_count": 15,
   "metadata": {},
   "outputs": [],
   "source": [
    "def functions(x,y):\n",
    "    return [2*x + 3*y, x**2+y**3, 2*np.cos(x)+np.exp(y)]"
   ]
  },
  {
   "cell_type": "code",
   "execution_count": 16,
   "metadata": {},
   "outputs": [
    {
     "data": {
      "text/plain": [
       "array([ 5.,  8., 11.,  7., 10., 13.,  9., 12., 15.])"
      ]
     },
     "execution_count": 16,
     "metadata": {},
     "output_type": "execute_result"
    }
   ],
   "source": [
    "points = np.array([[1, 1],[1, 2],[1, 3],[2, 1],[2, 2],[2, 3],[3, 1],[3, 2],[3, 3]])\n",
    "func_res = np.apply_along_axis(lambda row: functions(row[0], row[1]), axis=1, arr=points)\n",
    "func_res[:,0]\n"
   ]
  },
  {
   "cell_type": "code",
   "execution_count": 17,
   "metadata": {},
   "outputs": [
    {
     "data": {
      "text/plain": [
       "array([[1, 1],\n",
       "       [1, 2],\n",
       "       [1, 3],\n",
       "       [2, 1],\n",
       "       [2, 2],\n",
       "       [2, 3],\n",
       "       [3, 1],\n",
       "       [3, 2],\n",
       "       [3, 3]])"
      ]
     },
     "execution_count": 17,
     "metadata": {},
     "output_type": "execute_result"
    }
   ],
   "source": [
    "points"
   ]
  },
  {
   "cell_type": "code",
   "execution_count": 18,
   "metadata": {},
   "outputs": [],
   "source": [
    "def bilinear_interpolation(x, y, known_points, known_values): \n",
    "    \"\"\"\n",
    "    Функція для білінійної інтерполяції значення у точці (x, y) за заданими відомими точками та їхніми значеннями.\n",
    "\n",
    "    Args:\n",
    "        x, y (float): Координати точки для інтерполяції.\n",
    "        known_points (numpy.ndarray): Масив відомих точок у форматі [[x1, y1], [x2, y2], ...].\n",
    "        known_values (numpy.ndarray): Масив відомих значень, пов'язаних із відомими точками.\n",
    "\n",
    "    Returns:\n",
    "        float: Інтерпольоване значення у точці (x, y).\n",
    "    \"\"\"\n",
    "    if len(known_values) < 4 or len(known_points) < 4:\n",
    "        print(\"Не вистачає відомих точок для білінійної інтерполяції.\")\n",
    "        return None\n",
    "    \n",
    "    # Знаходимо індекси точок Q11, Q12, Q21 та Q22\n",
    "    idx11 = np.where((known_points[:, 0] < x) & (known_points[:, 1] < y))[0]\n",
    "    idx12 = np.where((known_points[:, 0] < x) & (known_points[:, 1] > y))[0]\n",
    "    idx21 = np.where((known_points[:, 0] > x) & (known_points[:, 1] < y))[0]\n",
    "    idx22 = np.where((known_points[:, 0] > x) & (known_points[:, 1] > y))[0]\n",
    "\n",
    "    # Перевіряємо, що є хоча б одна точка у кожному квадранті\n",
    "    if len(idx11) == 0 or len(idx12) == 0 or len(idx21) == 0 or len(idx22) == 0:\n",
    "        print(\"Не вдалося знайти відомі точки в кожному квадранті.\")\n",
    "        return None\n",
    "\n",
    "    # Вибираємо значення відомих точок\n",
    "    f_Q11 = known_values[idx11[0]]\n",
    "    f_Q12 = known_values[idx12[0]]\n",
    "    f_Q21 = known_values[idx21[0]]\n",
    "    f_Q22 = known_values[idx22[0]]\n",
    "\n",
    "    # Знаходимо координати відомих точок\n",
    "    x1, y1 = known_points[idx11[0]]\n",
    "    x2, y2 = known_points[idx22[0]]\n",
    "\n",
    "    # Робимо білінійну інтерполяцію\n",
    "    z = (f_Q11 * (x2 - x) * (y2 - y) / ((x2 - x1) * (y2 - y1))) + \\\n",
    "        (f_Q21 * (x - x1) * (y2 - y) / ((x2 - x1) * (y2 - y1))) + \\\n",
    "        (f_Q12 * (x2 - x) * (y - y1) / ((x2 - x1) * (y2 - y1))) + \\\n",
    "        (f_Q22 * (x - x1) * (y - y1) / ((x2 - x1) * (y2 - y1)))\n",
    "    \n",
    "    return z\n"
   ]
  },
  {
   "cell_type": "code",
   "execution_count": 19,
   "metadata": {},
   "outputs": [
    {
     "name": "stdout",
     "output_type": "stream",
     "text": [
      "f(1.5, 1.5) = 7.5\n",
      "f(1.25, 1.75) = 7.75\n",
      "f(1.5, 1.5) = 7.0\n",
      "f(1.25, 1.75) = 8.0\n",
      "f(1.5, 1.5) = 5.177824433015845\n",
      "f(1.25, 1.75) = 6.823742571841388\n",
      "[7.5, 5.625, 4.62316347367347]\n"
     ]
    }
   ],
   "source": [
    "\n",
    "# Тепер спробуємо декілька значень x та y та перевіримо, чи працює формула\n",
    "print(\"f(1.5, 1.5) =\", bilinear_interpolation(1.5, 1.5, points, func_res[:,0]))\n",
    "print(\"f(1.25, 1.75) =\", bilinear_interpolation(1.25, 1.75,points, func_res[:,0]))\n",
    "print(\"f(1.5, 1.5) =\", bilinear_interpolation(1.5, 1.5, points, func_res[:,1]))\n",
    "print(\"f(1.25, 1.75) =\", bilinear_interpolation(1.25, 1.75,points, func_res[:,1]))\n",
    "print(\"f(1.5, 1.5) =\", bilinear_interpolation(1.5, 1.5, points, func_res[:,2]))\n",
    "print(\"f(1.25, 1.75) =\", bilinear_interpolation(1.25, 1.75,points, func_res[:,2]))\n",
    "print(functions(1.5, 1.5))\n"
   ]
  },
  {
   "cell_type": "code",
   "execution_count": 20,
   "metadata": {},
   "outputs": [
    {
     "name": "stdout",
     "output_type": "stream",
     "text": [
      "Інтерпольоване значення: 5.177824433015845\n"
     ]
    }
   ],
   "source": [
    "from scipy.interpolate import griddata\n",
    "\n",
    "# Відомі точки та їх значення\n",
    "known_points = np.array([[1, 1], [1, 2], [1, 3], [2, 1], [2, 2], [2, 3], [3, 1], [3, 2], [3, 3]])\n",
    "known_values = func_res[:,2]\n",
    "\n",
    "# Точка, для якої потрібно провести інтерполяцію\n",
    "x_interp, y_interp = 1.5, 1.5\n",
    "\n",
    "# Використовуємо griddata для інтерполяції\n",
    "interp_value = griddata(known_points, known_values, (x_interp, y_interp), method='linear')\n",
    "\n",
    "print(\"Інтерпольоване значення:\", interp_value)\n"
   ]
  },
  {
   "cell_type": "code",
   "execution_count": 21,
   "metadata": {},
   "outputs": [],
   "source": [
    "def read_image(path):\n",
    "    '''Read image and return the image propertis.\n",
    "    Parameters:\n",
    "    path (string): Image path\n",
    "\n",
    "    Returns:\n",
    "    numpy.ndarray: Image exists in \"path\"\n",
    "    list: Image size\n",
    "    tuple: Image dimension (number of rows and columns)\n",
    "    '''\n",
    "    img = cv2.imread(path) \n",
    "    size = img.shape\n",
    "    dimension = (size[0], size[1])\n",
    "\n",
    "    return img, size, dimension\n",
    "\n"
   ]
  },
  {
   "cell_type": "code",
   "execution_count": 22,
   "metadata": {},
   "outputs": [],
   "source": [
    "\n",
    "def image_change_scale(img, dimension, scale=100, interpolation=cv2.INTER_LINEAR):\n",
    "    scale /= 100\n",
    "    new_dimension = (int(dimension[1]*scale), int(dimension[0]*scale))\n",
    "    resized_img = cv2.resize(img, new_dimension, interpolation=interpolation)\n",
    "\n",
    "    return resized_img\n"
   ]
  },
  {
   "cell_type": "code",
   "execution_count": 23,
   "metadata": {},
   "outputs": [],
   "source": [
    "image_test, size_test, dimension_test = read_image(\"doggy.jpg\")"
   ]
  },
  {
   "attachments": {
    "image.png": {
     "image/png": "[encoded data removed]"
    }
   },
   "cell_type": "markdown",
   "metadata": {},
   "source": [
    "![image.png](attachment:image.png)"
   ]
  },
  {
   "cell_type": "code",
   "execution_count": 87,
   "metadata": {},
   "outputs": [],
   "source": [
    "def bilinear_interpolation(image, scale_factor):\n",
    "    # Определение новых размеров изображения\n",
    "    new_height = int(image.shape[0] * scale_factor)\n",
    "    new_width = int(image.shape[1] * scale_factor)\n",
    "    \n",
    "    # Создание нового изображения с новыми размерами\n",
    "    new_image = np.zeros((new_height, new_width), dtype=np.uint8)\n",
    "\n",
    "    # Выполнение билинейной интерполяции для каждого канала RGB\n",
    "    for channel in range(1):\n",
    "        for i in range(new_height):\n",
    "            for j in range(new_width):\n",
    "                # Нахождение координат пикселей в исходном изображении\n",
    "                y_original = i / scale_factor\n",
    "                x_original = j / scale_factor\n",
    "                \n",
    "                # Нахождение координат угловых пикселей\n",
    "                y1 = int(y_original)\n",
    "                y2 = min(y1 + 1, image.shape[0] - 1)\n",
    "                x1 = int(x_original)\n",
    "                x2 = min(x1 + 1, image.shape[1] - 1)\n",
    "                \n",
    "                # Коэффициенты для интерполяции\n",
    "                dy = y_original - y1\n",
    "                dx = x_original - x1\n",
    "                \n",
    "                # Интерполяция значений\n",
    "                interpolated_value = (1 - dx) * (1 - dy) * image[y1, x1] + \\\n",
    "                                     dx * (1 - dy) * image[y1, x2] + \\\n",
    "                                     (1 - dx) * dy * image[y2, x1] + \\\n",
    "                                     dx * dy * image[y2, x2]\n",
    "                \n",
    "                new_image[i, j] = interpolated_value\n",
    "    \n",
    "    return new_image"
   ]
  },
  {
   "cell_type": "code",
   "execution_count": 94,
   "metadata": {},
   "outputs": [],
   "source": [
    "im_test = np.array([[54,12,110],[11,32,84],[8,25,96]])"
   ]
  },
  {
   "cell_type": "code",
   "execution_count": 97,
   "metadata": {},
   "outputs": [
    {
     "ename": "IndexError",
     "evalue": "tuple index out of range",
     "output_type": "error",
     "traceback": [
      "\u001b[1;31m---------------------------------------------------------------------------\u001b[0m",
      "\u001b[1;31mIndexError\u001b[0m                                Traceback (most recent call last)",
      "Cell \u001b[1;32mIn[97], line 1\u001b[0m\n\u001b[1;32m----> 1\u001b[0m new_image \u001b[38;5;241m=\u001b[39m \u001b[43mbilinear_interpolation\u001b[49m\u001b[43m(\u001b[49m\u001b[43mim_test\u001b[49m\u001b[43m,\u001b[49m\u001b[43m \u001b[49m\u001b[43m[\u001b[49m\u001b[38;5;241;43m5\u001b[39;49m\u001b[43m,\u001b[49m\u001b[38;5;241;43m5\u001b[39;49m\u001b[43m]\u001b[49m\u001b[43m)\u001b[49m\n",
      "Cell \u001b[1;32mIn[93], line 16\u001b[0m, in \u001b[0;36mbilinear_interpolation\u001b[1;34m(image, dimension)\u001b[0m\n\u001b[0;32m     13\u001b[0m scale_x \u001b[38;5;241m=\u001b[39m (width)\u001b[38;5;241m/\u001b[39m(dimension[\u001b[38;5;241m1\u001b[39m])\n\u001b[0;32m     14\u001b[0m scale_y \u001b[38;5;241m=\u001b[39m (height)\u001b[38;5;241m/\u001b[39m(dimension[\u001b[38;5;241m0\u001b[39m])\n\u001b[1;32m---> 16\u001b[0m new_image \u001b[38;5;241m=\u001b[39m np\u001b[38;5;241m.\u001b[39mzeros((dimension[\u001b[38;5;241m0\u001b[39m], dimension[\u001b[38;5;241m1\u001b[39m], \u001b[43mimage\u001b[49m\u001b[38;5;241;43m.\u001b[39;49m\u001b[43mshape\u001b[49m\u001b[43m[\u001b[49m\u001b[38;5;241;43m2\u001b[39;49m\u001b[43m]\u001b[49m))\n\u001b[0;32m     18\u001b[0m \u001b[38;5;28;01mfor\u001b[39;00m k \u001b[38;5;129;01min\u001b[39;00m \u001b[38;5;28mrange\u001b[39m(\u001b[38;5;241m1\u001b[39m):\n\u001b[0;32m     19\u001b[0m     \u001b[38;5;28;01mfor\u001b[39;00m i \u001b[38;5;129;01min\u001b[39;00m \u001b[38;5;28mrange\u001b[39m(dimension[\u001b[38;5;241m0\u001b[39m]):\n",
      "\u001b[1;31mIndexError\u001b[0m: tuple index out of range"
     ]
    }
   ],
   "source": [
    "new_image = bilinear_interpolation(im_test, [5,5])"
   ]
  },
  {
   "cell_type": "code",
   "execution_count": 90,
   "metadata": {},
   "outputs": [
    {
     "data": {
      "text/plain": [
       "array([[ 54,  33,  12,  61, 110, 110],\n",
       "       [ 32,  27,  22,  59,  97,  97],\n",
       "       [ 11,  21,  32,  58,  84,  84],\n",
       "       [  9,  19,  28,  59,  90,  90],\n",
       "       [  8,  16,  25,  60,  96,  96],\n",
       "       [  8,  16,  25,  60,  96,  96]], dtype=uint8)"
      ]
     },
     "execution_count": 90,
     "metadata": {},
     "output_type": "execute_result"
    }
   ],
   "source": [
    "new_image"
   ]
  },
  {
   "cell_type": "code",
   "execution_count": 93,
   "metadata": {},
   "outputs": [],
   "source": [
    "def bilinear_interpolation(image, dimension):\n",
    "    '''Bilinear interpolation method to convert small image to original image\n",
    "    Parameters:\n",
    "    img (numpy.ndarray): Small image\n",
    "    dimension (tuple): resizing image dimension\n",
    "\n",
    "    Returns:\n",
    "    numpy.ndarray: Resized image\n",
    "    '''\n",
    "    height = image.shape[0]\n",
    "    width = image.shape[1]\n",
    "\n",
    "    scale_x = (width)/(dimension[1])\n",
    "    scale_y = (height)/(dimension[0])\n",
    "\n",
    "    new_image = np.zeros((dimension[0], dimension[1], image.shape[2]))\n",
    "\n",
    "    for k in range(1):\n",
    "        for i in range(dimension[0]):\n",
    "            for j in range(dimension[1]):\n",
    "                x = (j+0.5) * (scale_x) - 0.5\n",
    "                y = (i+0.5) * (scale_y) - 0.5\n",
    "\n",
    "                x_int = int(x)\n",
    "                y_int = int(y)\n",
    "\n",
    "                # Prevent crossing\n",
    "                x_int = min(x_int, width-2)\n",
    "                y_int = min(y_int, height-2)\n",
    "\n",
    "                x_diff = x - x_int\n",
    "                y_diff = y - y_int\n",
    "\n",
    "                a = image[y_int, x_int]\n",
    "                b = image[y_int, x_int+1]\n",
    "                c = image[y_int+1, x_int]\n",
    "                d = image[y_int+1, x_int+1]\n",
    "\n",
    "                pixel = a*(1-x_diff)*(1-y_diff) + b*(x_diff) * \\\n",
    "                    (1-y_diff) + c*(1-x_diff) * (y_diff) + d*x_diff*y_diff\n",
    "\n",
    "                new_image[i, j] = pixel.astype(np.uint8)\n",
    "\n",
    "    return new_image\n"
   ]
  },
  {
   "cell_type": "code",
   "execution_count": null,
   "metadata": {},
   "outputs": [],
   "source": []
  }
 ],
 "metadata": {
  "kernelspec": {
   "display_name": ".venv",
   "language": "python",
   "name": "python3"
  },
  "language_info": {
   "codemirror_mode": {
    "name": "ipython",
    "version": 3
   },
   "file_extension": ".py",
   "mimetype": "text/x-python",
   "name": "python",
   "nbconvert_exporter": "python",
   "pygments_lexer": "ipython3",
   "version": "3.11.8"
  }
 },
 "nbformat": 4,
 "nbformat_minor": 2
}
